{
 "cells": [
  {
   "cell_type": "code",
   "execution_count": 1,
   "metadata": {
    "collapsed": false
   },
   "outputs": [],
   "source": [
    "import pandas as pd # work with data  as tables\n",
    "import numpy as np # usenumber matrices\n",
    "import matplotlib.pyplot as plt\n",
    "import tensorflow as tf"
   ]
  },
  {
   "cell_type": "code",
   "execution_count": 3,
   "metadata": {
    "collapsed": false
   },
   "outputs": [
    {
     "data": {
      "text/plain": [
       "0     399900.0\n",
       "1     329900.0\n",
       "2     369000.0\n",
       "3     232000.0\n",
       "4     539900.0\n",
       "5     299900.0\n",
       "6     314900.0\n",
       "7     198999.0\n",
       "8     212000.0\n",
       "9     242500.0\n",
       "10    239999.0\n",
       "11    347000.0\n",
       "12    329999.0\n",
       "13    699900.0\n",
       "14    259900.0\n",
       "15    449900.0\n",
       "16    299900.0\n",
       "17    199900.0\n",
       "18    499998.0\n",
       "19    599000.0\n",
       "20    252900.0\n",
       "21    255000.0\n",
       "22    242900.0\n",
       "23    259900.0\n",
       "24    573900.0\n",
       "25    249900.0\n",
       "26    464500.0\n",
       "27    469000.0\n",
       "28    475000.0\n",
       "29    299900.0\n",
       "30    349900.0\n",
       "31    169900.0\n",
       "32    314900.0\n",
       "33    579900.0\n",
       "34    285900.0\n",
       "35    249900.0\n",
       "36    229900.0\n",
       "37    345000.0\n",
       "38    549000.0\n",
       "39    287000.0\n",
       "40    368500.0\n",
       "41    329900.0\n",
       "42    314000.0\n",
       "43    299000.0\n",
       "44    179900.0\n",
       "45    299900.0\n",
       "46    239500.0\n",
       "Name: price, dtype: float64"
      ]
     },
     "execution_count": 3,
     "metadata": {},
     "output_type": "execute_result"
    }
   ],
   "source": [
    "# step 1 load data\n",
    "dataframe=pd.read_csv('/Users/zhengduan/Desktop/Jupyter_root/data/data.csv')\n",
    "dataframe.head()\n",
    "dataframe.loc[:,'price']"
   ]
  },
  {
   "cell_type": "code",
   "execution_count": null,
   "metadata": {
    "collapsed": false
   },
   "outputs": [],
   "source": [
    "dataframe=dataframe.drop(['index','price','sq_price'],axis=1)\n",
    "dataframe.head()"
   ]
  },
  {
   "cell_type": "code",
   "execution_count": null,
   "metadata": {
    "collapsed": false
   },
   "outputs": [],
   "source": [
    "dataframe=dataframe[0:10]\n",
    "dataframe"
   ]
  },
  {
   "cell_type": "code",
   "execution_count": null,
   "metadata": {
    "collapsed": false
   },
   "outputs": [],
   "source": [
    "# step 2 add labels\n",
    "# 1 is good buy and 0 is bad buy\n",
    "dataframe.loc[:,('y1')]=[1,1,1,0,0,1,0,1,1,1]\n",
    "dataframe.loc[:,('y2')]=dataframe['y1']==0\n",
    "dataframe.loc[:,('y2')]=dataframe['y2'].astype(int)\n",
    "dataframe"
   ]
  },
  {
   "cell_type": "code",
   "execution_count": null,
   "metadata": {
    "collapsed": false
   },
   "outputs": [],
   "source": [
    "# step 3 prepare data for tensorflow \n",
    "inputX=dataframe.loc[:,['area','bathrooms']].as_matrix() \n",
    "inputY=dataframe.loc[:,['y1','y2']].as_matrix()"
   ]
  },
  {
   "cell_type": "code",
   "execution_count": null,
   "metadata": {
    "collapsed": false
   },
   "outputs": [],
   "source": [
    "# step 4 write out our hyperparameters\n",
    "learning_rate=0.000001\n",
    "training_epochs=2000\n",
    "display_step=50\n",
    "n_samples=inputY.size"
   ]
  },
  {
   "cell_type": "code",
   "execution_count": null,
   "metadata": {
    "collapsed": false
   },
   "outputs": [],
   "source": [
    "#step 5 create our computation grapy\n",
    "x=tf.placeholder(tf.float32,[None,2])\n",
    "y=tf.placeholder(tf.float32,[None,2])\n",
    "w=tf.Variable(tf.zeros((2,2)))\n",
    "b=tf.Variable(tf.zeros(2))\n",
    "\n",
    "output=tf.add(tf.matmul(x,w),b)\n",
    "output=tf.nn.softmax(output)\n",
    "\n"
   ]
  },
  {
   "cell_type": "code",
   "execution_count": null,
   "metadata": {
    "collapsed": true
   },
   "outputs": [],
   "source": [
    "# step 6 perform training\n",
    "loss=tf.reduce_sum(tf.pow(y-output,2))/(2*n_samples)\n",
    "optimizer=tf.train.GradientDescentOptimizer(learning_rate).minimize(loss) "
   ]
  },
  {
   "cell_type": "code",
   "execution_count": null,
   "metadata": {
    "collapsed": false
   },
   "outputs": [],
   "source": [
    "# step 7 session\n",
    "with  tf.Session() as sess:\n",
    "    sess.run(tf.global_variables_initializer())\n",
    "    for i in range(2000):\n",
    "        sess.run(optimizer,feed_dict={x:inputX,y:inputY })\n",
    "        if i % display_step==0:\n",
    "            cc=sess.run(loss, feed_dict={x:inputX,y:inputY })\n",
    "            print('traing steps{}'.format(epoch))    \n",
    "            print('loss= {:.9f}'.format(cc))"
   ]
  },
  {
   "cell_type": "code",
   "execution_count": null,
   "metadata": {
    "collapsed": true
   },
   "outputs": [],
   "source": [
    "tf.ran                        "
   ]
  }
 ],
 "metadata": {
  "anaconda-cloud": {},
  "kernelspec": {
   "display_name": "Python [default]",
   "language": "python",
   "name": "python3"
  },
  "language_info": {
   "codemirror_mode": {
    "name": "ipython",
    "version": 3
   },
   "file_extension": ".py",
   "mimetype": "text/x-python",
   "name": "python",
   "nbconvert_exporter": "python",
   "pygments_lexer": "ipython3",
   "version": "3.5.2"
  }
 },
 "nbformat": 4,
 "nbformat_minor": 1
}
